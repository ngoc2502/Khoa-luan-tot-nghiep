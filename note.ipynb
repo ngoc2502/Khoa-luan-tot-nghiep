{
 "cells": [
  {
   "attachments": {},
   "cell_type": "markdown",
   "metadata": {},
   "source": [
    "# NOTE HERE"
   ]
  },
  {
   "attachments": {},
   "cell_type": "markdown",
   "metadata": {},
   "source": [
    "### Problems while running train.py"
   ]
  },
  {
   "attachments": {},
   "cell_type": "markdown",
   "metadata": {},
   "source": [
    "#### Error"
   ]
  },
  {
   "attachments": {},
   "cell_type": "markdown",
   "metadata": {},
   "source": [
    "1. **r2plus1d_18, r2plus1d_34, r2plus1d_50, r2plus1d_101, r2plus1d_152, r2plus1d_200, r2plus1dxt50_32x4d, r2plus1dxt101_32x8d, wide_r2plus1d50_2,wide_r2plus1d101_2**, those models aren't defined in resnet.py but be imported to symbol_builder.py file.\n"
   ]
  },
  {
   "attachments": {},
   "cell_type": "markdown",
   "metadata": {},
   "source": [
    "2. Get Error **CUDA out of memory** cuz GPU insufficient space."
   ]
  },
  {
   "attachments": {},
   "cell_type": "markdown",
   "metadata": {},
   "source": [
    "3. Cannot install **adaPool** package in GG Colab so move on to train on Kaggle"
   ]
  },
  {
   "attachments": {},
   "cell_type": "markdown",
   "metadata": {},
   "source": [
    "#### Download additional packages\n",
    "\n",
    "Pyyaml, Timm"
   ]
  },
  {
   "attachments": {},
   "cell_type": "markdown",
   "metadata": {},
   "source": [
    "#### cuda"
   ]
  },
  {
   "attachments": {},
   "cell_type": "markdown",
   "metadata": {},
   "source": [
    "To use CUDA with a GPU on a laptop, We'll need to have a laptop with an NVIDIA GPU that supports CUDA, and We'll need to install the NVIDIA CUDA Toolkit. \n",
    "\n",
    "1. Check GPU compatibility: Before installing the CUDA Toolkit, check if GPU is compatible with CUDA. Check this by visiting the NVIDIA website and checking the list of CUDA-enabled GPUs.\n",
    "\n",
    "2. Install the NVIDIA CUDA Toolkit: download the NVIDIA CUDA Toolkit from the NVIDIA website. This will include installing the necessary drivers for GPU and setting up the CUDA environment on system.\n",
    "\n",
    "3. Verify CUDA installation: After installing the CUDA Toolkit, verify that CUDA is installed and working properly by running the following command in a terminal or command prompt: nvidia-smi. This should display information about GPU, including its name and CUDA capability.\n",
    "\n",
    "4. Set up CUDA in programming environment: install the PyTorch package and set the device to \"cuda\""
   ]
  },
  {
   "attachments": {},
   "cell_type": "markdown",
   "metadata": {},
   "source": [
    "### RUN "
   ]
  },
  {
   "attachments": {},
   "cell_type": "markdown",
   "metadata": {},
   "source": [
    "#### Run train.py (run.ipynb file)"
   ]
  },
  {
   "attachments": {},
   "cell_type": "markdown",
   "metadata": {},
   "source": [
    "1. Change path_dir\n",
    "- config\\UCF-101\\latents_256\\conf.yml: \n",
    "*data_dir: ../input/ucf101/UCF101/UCF-101*\n",
    "- train.py (line 65): \n",
    "*'--data_dir', default='../input/ucf101/UCF101/UCF-101'*\n",
    "\n",
    "\n",
    "\n"
   ]
  }
 ],
 "metadata": {
  "kernelspec": {
   "display_name": "Python 3",
   "language": "python",
   "name": "python3"
  },
  "language_info": {
   "codemirror_mode": {
    "name": "ipython",
    "version": 3
   },
   "file_extension": ".py",
   "mimetype": "text/x-python",
   "name": "python",
   "nbconvert_exporter": "python",
   "pygments_lexer": "ipython3",
   "version": "3.9.13"
  },
  "orig_nbformat": 4,
  "vscode": {
   "interpreter": {
    "hash": "231b793e72510f63263cf75731d759da8776d8c74c3ed2dbefa0f0827e58fa6e"
   }
  }
 },
 "nbformat": 4,
 "nbformat_minor": 2
}
